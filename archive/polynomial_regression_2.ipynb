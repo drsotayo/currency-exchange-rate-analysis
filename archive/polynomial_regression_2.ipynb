{
 "cells": [
  {
   "cell_type": "code",
   "execution_count": 1,
   "metadata": {},
   "outputs": [],
   "source": [
    "#import the necessary libraries"
   ]
  },
  {
   "cell_type": "code",
   "execution_count": 2,
   "metadata": {},
   "outputs": [],
   "source": [
    "import pandas as pd \n",
    "import numpy as np\n",
    "import matplotlib.pyplot as plt"
   ]
  },
  {
   "cell_type": "code",
   "execution_count": 3,
   "metadata": {},
   "outputs": [],
   "source": [
    "df = pd.read_csv(\"average_year_rate_GBP_to_NGN_2001-2020.csv\")"
   ]
  },
  {
   "cell_type": "code",
   "execution_count": 4,
   "metadata": {},
   "outputs": [
    {
     "data": {
      "text/html": [
       "<div>\n",
       "<style scoped>\n",
       "    .dataframe tbody tr th:only-of-type {\n",
       "        vertical-align: middle;\n",
       "    }\n",
       "\n",
       "    .dataframe tbody tr th {\n",
       "        vertical-align: top;\n",
       "    }\n",
       "\n",
       "    .dataframe thead th {\n",
       "        text-align: right;\n",
       "    }\n",
       "</style>\n",
       "<table border=\"1\" class=\"dataframe\">\n",
       "  <thead>\n",
       "    <tr style=\"text-align: right;\">\n",
       "      <th></th>\n",
       "      <th>rate_year</th>\n",
       "      <th>buying_rate</th>\n",
       "    </tr>\n",
       "  </thead>\n",
       "  <tbody>\n",
       "    <tr>\n",
       "      <th>0</th>\n",
       "      <td>2001</td>\n",
       "      <td>161.940985</td>\n",
       "    </tr>\n",
       "    <tr>\n",
       "      <th>1</th>\n",
       "      <td>2002</td>\n",
       "      <td>180.506688</td>\n",
       "    </tr>\n",
       "    <tr>\n",
       "      <th>2</th>\n",
       "      <td>2003</td>\n",
       "      <td>209.806118</td>\n",
       "    </tr>\n",
       "    <tr>\n",
       "      <th>3</th>\n",
       "      <td>2004</td>\n",
       "      <td>242.630631</td>\n",
       "    </tr>\n",
       "    <tr>\n",
       "      <th>4</th>\n",
       "      <td>2005</td>\n",
       "      <td>237.747661</td>\n",
       "    </tr>\n",
       "  </tbody>\n",
       "</table>\n",
       "</div>"
      ],
      "text/plain": [
       "   rate_year  buying_rate\n",
       "0       2001   161.940985\n",
       "1       2002   180.506688\n",
       "2       2003   209.806118\n",
       "3       2004   242.630631\n",
       "4       2005   237.747661"
      ]
     },
     "execution_count": 4,
     "metadata": {},
     "output_type": "execute_result"
    }
   ],
   "source": [
    "df.head()"
   ]
  },
  {
   "cell_type": "code",
   "execution_count": 5,
   "metadata": {},
   "outputs": [],
   "source": [
    "X = df[[\"rate_year\"]]\n",
    "y = df[\"buying_rate\"]"
   ]
  },
  {
   "cell_type": "code",
   "execution_count": 6,
   "metadata": {},
   "outputs": [
    {
     "data": {
      "text/html": [
       "<div>\n",
       "<style scoped>\n",
       "    .dataframe tbody tr th:only-of-type {\n",
       "        vertical-align: middle;\n",
       "    }\n",
       "\n",
       "    .dataframe tbody tr th {\n",
       "        vertical-align: top;\n",
       "    }\n",
       "\n",
       "    .dataframe thead th {\n",
       "        text-align: right;\n",
       "    }\n",
       "</style>\n",
       "<table border=\"1\" class=\"dataframe\">\n",
       "  <thead>\n",
       "    <tr style=\"text-align: right;\">\n",
       "      <th></th>\n",
       "      <th>rate_year</th>\n",
       "    </tr>\n",
       "  </thead>\n",
       "  <tbody>\n",
       "    <tr>\n",
       "      <th>0</th>\n",
       "      <td>2001</td>\n",
       "    </tr>\n",
       "    <tr>\n",
       "      <th>1</th>\n",
       "      <td>2002</td>\n",
       "    </tr>\n",
       "    <tr>\n",
       "      <th>2</th>\n",
       "      <td>2003</td>\n",
       "    </tr>\n",
       "    <tr>\n",
       "      <th>3</th>\n",
       "      <td>2004</td>\n",
       "    </tr>\n",
       "    <tr>\n",
       "      <th>4</th>\n",
       "      <td>2005</td>\n",
       "    </tr>\n",
       "  </tbody>\n",
       "</table>\n",
       "</div>"
      ],
      "text/plain": [
       "   rate_year\n",
       "0       2001\n",
       "1       2002\n",
       "2       2003\n",
       "3       2004\n",
       "4       2005"
      ]
     },
     "execution_count": 6,
     "metadata": {},
     "output_type": "execute_result"
    }
   ],
   "source": [
    "X.head()"
   ]
  },
  {
   "cell_type": "code",
   "execution_count": 7,
   "metadata": {},
   "outputs": [],
   "source": [
    "n= int(len(df) * 0.8)\n",
    "\n",
    "X_train = X[:n]\n",
    "y_train = y[:n]\n",
    "\n",
    "X_test = X[n:]\n",
    "y_test = y[n:]"
   ]
  },
  {
   "cell_type": "code",
   "execution_count": 8,
   "metadata": {},
   "outputs": [],
   "source": [
    "#from sklearn.model_selection import train_test_split\n",
    "\n",
    "#X_train, X_test, y_train, y_test = train_test_split(X,y, test_size = 0.2, random_state=0) "
   ]
  },
  {
   "cell_type": "code",
   "execution_count": 9,
   "metadata": {},
   "outputs": [
    {
     "data": {
      "text/plain": [
       "LinearRegression()"
      ]
     },
     "execution_count": 9,
     "metadata": {},
     "output_type": "execute_result"
    }
   ],
   "source": [
    "from sklearn.linear_model import LinearRegression\n",
    "LinReg = LinearRegression()\n",
    "LinReg.fit(X_train, y_train)"
   ]
  },
  {
   "cell_type": "code",
   "execution_count": 10,
   "metadata": {},
   "outputs": [
    {
     "data": {
      "image/png": "[encoded data removed]",
      "text/plain": [
       "<Figure size 432x288 with 1 Axes>"
      ]
     },
     "metadata": {
      "needs_background": "light"
     },
     "output_type": "display_data"
    }
   ],
   "source": [
    "plt.scatter(X_train, y_train, color=\"green\")\n",
    "plt.plot(X_train, LinReg.predict(X_train), color=\"blue\")\n",
    "plt.title(\"Linear regression\")\n",
    "plt.xlabel(\"Year\")\n",
    "plt.ylabel(\"Buying rate\")\n",
    "\n",
    "plt.show()"
   ]
  },
  {
   "cell_type": "code",
   "execution_count": null,
   "metadata": {},
   "outputs": [],
   "source": []
  },
  {
   "cell_type": "code",
   "execution_count": 11,
   "metadata": {},
   "outputs": [
    {
     "data": {
      "text/plain": [
       "array([[1.00000000e+00, 2.00100000e+03, 4.00400100e+06, 8.01200600e+09],\n",
       "       [1.00000000e+00, 2.00200000e+03, 4.00800400e+06, 8.02402401e+09],\n",
       "       [1.00000000e+00, 2.00300000e+03, 4.01200900e+06, 8.03605403e+09],\n",
       "       [1.00000000e+00, 2.00400000e+03, 4.01601600e+06, 8.04809606e+09],\n",
       "       [1.00000000e+00, 2.00500000e+03, 4.02002500e+06, 8.06015012e+09],\n",
       "       [1.00000000e+00, 2.00600000e+03, 4.02403600e+06, 8.07221622e+09],\n",
       "       [1.00000000e+00, 2.00700000e+03, 4.02804900e+06, 8.08429434e+09],\n",
       "       [1.00000000e+00, 2.00800000e+03, 4.03206400e+06, 8.09638451e+09],\n",
       "       [1.00000000e+00, 2.00900000e+03, 4.03608100e+06, 8.10848673e+09],\n",
       "       [1.00000000e+00, 2.01000000e+03, 4.04010000e+06, 8.12060100e+09],\n",
       "       [1.00000000e+00, 2.01100000e+03, 4.04412100e+06, 8.13272733e+09],\n",
       "       [1.00000000e+00, 2.01200000e+03, 4.04814400e+06, 8.14486573e+09],\n",
       "       [1.00000000e+00, 2.01300000e+03, 4.05216900e+06, 8.15701620e+09],\n",
       "       [1.00000000e+00, 2.01400000e+03, 4.05619600e+06, 8.16917874e+09],\n",
       "       [1.00000000e+00, 2.01500000e+03, 4.06022500e+06, 8.18135338e+09],\n",
       "       [1.00000000e+00, 2.01600000e+03, 4.06425600e+06, 8.19354010e+09]])"
      ]
     },
     "execution_count": 11,
     "metadata": {},
     "output_type": "execute_result"
    }
   ],
   "source": [
    "#Let's add the polynomial term to the equation/model\n",
    "\n",
    "from sklearn.preprocessing import PolynomialFeatures\n",
    "polynom = PolynomialFeatures(degree=3)\n",
    "X_polynom = polynom.fit_transform(X_train)\n",
    "\n",
    "X_polynom"
   ]
  },
  {
   "cell_type": "code",
   "execution_count": 12,
   "metadata": {},
   "outputs": [
    {
     "data": {
      "text/plain": [
       "LinearRegression()"
      ]
     },
     "execution_count": 12,
     "metadata": {},
     "output_type": "execute_result"
    }
   ],
   "source": [
    "#Fit the Polynomial Regression Model\n",
    "\n",
    "PolyReg = LinearRegression()\n",
    "PolyReg.fit(X_polynom, y_train)"
   ]
  },
  {
   "cell_type": "code",
   "execution_count": 13,
   "metadata": {},
   "outputs": [
    {
     "data": {
      "image/png": "[encoded data removed]",
      "text/plain": [
       "<Figure size 432x288 with 1 Axes>"
      ]
     },
     "metadata": {
      "needs_background": "light"
     },
     "output_type": "display_data"
    }
   ],
   "source": [
    "#Visualise the Polynomial Regression Results\n",
    "\n",
    "plt.scatter(X_train, y_train, color=\"green\")\n",
    "\n",
    "plt.plot(X_train, PolyReg.predict(polynom.fit_transform(X_train)), color=\"blue\")\n",
    "\n",
    "plt.title(\"Polynomial regression\")\n",
    "plt.xlabel(\"Year\")\n",
    "plt.ylabel(\"Buying rate\")\n",
    "\n",
    "plt.show()"
   ]
  },
  {
   "cell_type": "code",
   "execution_count": 14,
   "metadata": {},
   "outputs": [],
   "source": [
    "#Predicted buying rate with simple linear regression\n",
    "\n",
    "y_predict_slr = LinReg.predict(X_test)"
   ]
  },
  {
   "cell_type": "code",
   "execution_count": 15,
   "metadata": {},
   "outputs": [
    {
     "name": "stdout",
     "output_type": "stream",
     "text": [
      "R-Square Errort associated with Simple Linear Regression:  -14.937408102944636\n"
     ]
    }
   ],
   "source": [
    "#Model Evaluation using R-Square for simple linear regression \n",
    "\n",
    "from sklearn.metrics import r2_score\n",
    "r_square = r2_score(y_test, y_predict_slr)\n",
    "\n",
    "print(\"R-Square Errort associated with Simple Linear Regression: \", r_square)"
   ]
  },
  {
   "cell_type": "code",
   "execution_count": 17,
   "metadata": {},
   "outputs": [
    {
     "name": "stdout",
     "output_type": "stream",
     "text": [
      "R-Square Error associated with Polynomial Regression:  -17.65647691196282\n"
     ]
    }
   ],
   "source": [
    "#Model Evaluation using R-Square for polynomial regression \n",
    "\n",
    "y_predict_pr = PolyReg.predict(polynom.fit_transform(X_test))\n",
    "\n",
    "#Model Evaluation using R-Square for Polynomial Regression\n",
    "\n",
    "r_square = r2_score(y_test, y_predict_pr)\n",
    "\n",
    "print(\"R-Square Error associated with Polynomial Regression: \", r_square)"
   ]
  },
  {
   "cell_type": "code",
   "execution_count": null,
   "metadata": {},
   "outputs": [],
   "source": [
    "#Predict buying rate using Linear regression\n",
    "\n",
    "LinReg.predict([[2021]])"
   ]
  },
  {
   "cell_type": "code",
   "execution_count": null,
   "metadata": {},
   "outputs": [],
   "source": [
    "#Predict buying rate using Polynomial  regression\n",
    "\n",
    "PolyReg.predict(polynom.fit_transform([[2021]]))"
   ]
  },
  {
   "cell_type": "code",
   "execution_count": null,
   "metadata": {},
   "outputs": [],
   "source": []
  }
 ],
 "metadata": {
  "kernelspec": {
   "display_name": "Python 3",
   "language": "python",
   "name": "python3"
  },
  "language_info": {
   "codemirror_mode": {
    "name": "ipython",
    "version": 3
   },
   "file_extension": ".py",
   "mimetype": "text/x-python",
   "name": "python",
   "nbconvert_exporter": "python",
   "pygments_lexer": "ipython3",
   "version": "3.8.5"
  },
  "toc": {
   "base_numbering": 1,
   "nav_menu": {},
   "number_sections": true,
   "sideBar": true,
   "skip_h1_title": false,
   "title_cell": "Table of Contents",
   "title_sidebar": "Contents",
   "toc_cell": false,
   "toc_position": {},
   "toc_section_display": true,
   "toc_window_display": false
  }
 },
 "nbformat": 4,
 "nbformat_minor": 4
}
