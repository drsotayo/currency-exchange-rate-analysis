{
 "cells": [
  {
   "cell_type": "markdown",
   "metadata": {},
   "source": [
    "# Data cleaning of the exchange rate raw data from the Central Bank of Nigeria (CBN)"
   ]
  },
  {
   "cell_type": "markdown",
   "metadata": {},
   "source": [
    "# Import relevant libraries "
   ]
  },
  {
   "cell_type": "code",
   "execution_count": 1,
   "metadata": {},
   "outputs": [],
   "source": [
    "import pandas as pd \n",
    "import matplotlib.pyplot as plt \n",
    "import numpy as np \n",
    "import seaborn as sns\n",
    "sns.set_theme(style=\"ticks\")\n"
   ]
  },
  {
   "cell_type": "code",
   "execution_count": 2,
   "metadata": {},
   "outputs": [],
   "source": [
    "import plotly.express as px"
   ]
  },
  {
   "cell_type": "code",
   "execution_count": 3,
   "metadata": {},
   "outputs": [],
   "source": [
    "df = pd.read_csv(\"exchange07062021.csv\", index_col=False)\n",
    "\n",
    "#Data source - Central Bank of Nigeria - https://www.cbn.gov.ng/rates/ExchRateByCurrency.asp "
   ]
  },
  {
   "cell_type": "code",
   "execution_count": 4,
   "metadata": {},
   "outputs": [
    {
     "data": {
      "text/html": [
       "<div>\n",
       "<style scoped>\n",
       "    .dataframe tbody tr th:only-of-type {\n",
       "        vertical-align: middle;\n",
       "    }\n",
       "\n",
       "    .dataframe tbody tr th {\n",
       "        vertical-align: top;\n",
       "    }\n",
       "\n",
       "    .dataframe thead th {\n",
       "        text-align: right;\n",
       "    }\n",
       "</style>\n",
       "<table border=\"1\" class=\"dataframe\">\n",
       "  <thead>\n",
       "    <tr style=\"text-align: right;\">\n",
       "      <th></th>\n",
       "      <th>Rate Date</th>\n",
       "      <th>Currency</th>\n",
       "      <th>Rate Year</th>\n",
       "      <th>Rate Month</th>\n",
       "      <th>Buying Rate</th>\n",
       "      <th>Central Rate</th>\n",
       "      <th>Selling Rate</th>\n",
       "    </tr>\n",
       "  </thead>\n",
       "  <tbody>\n",
       "    <tr>\n",
       "      <th>0</th>\n",
       "      <td>6/4/2021</td>\n",
       "      <td>US DOLLAR</td>\n",
       "      <td>2021</td>\n",
       "      <td>June</td>\n",
       "      <td>409.1800</td>\n",
       "      <td>409.6800</td>\n",
       "      <td>410.1800</td>\n",
       "    </tr>\n",
       "    <tr>\n",
       "      <th>1</th>\n",
       "      <td>6/4/2021</td>\n",
       "      <td>POUNDS STERLING</td>\n",
       "      <td>2021</td>\n",
       "      <td>June</td>\n",
       "      <td>578.5396</td>\n",
       "      <td>579.2466</td>\n",
       "      <td>579.9535</td>\n",
       "    </tr>\n",
       "    <tr>\n",
       "      <th>2</th>\n",
       "      <td>6/4/2021</td>\n",
       "      <td>EURO</td>\n",
       "      <td>2021</td>\n",
       "      <td>June</td>\n",
       "      <td>495.9262</td>\n",
       "      <td>496.5322</td>\n",
       "      <td>497.1382</td>\n",
       "    </tr>\n",
       "    <tr>\n",
       "      <th>3</th>\n",
       "      <td>6/4/2021</td>\n",
       "      <td>SWISS FRANC</td>\n",
       "      <td>2021</td>\n",
       "      <td>June</td>\n",
       "      <td>452.5827</td>\n",
       "      <td>453.1357</td>\n",
       "      <td>453.6888</td>\n",
       "    </tr>\n",
       "    <tr>\n",
       "      <th>4</th>\n",
       "      <td>6/4/2021</td>\n",
       "      <td>YEN</td>\n",
       "      <td>2021</td>\n",
       "      <td>June</td>\n",
       "      <td>3.7161</td>\n",
       "      <td>3.7206</td>\n",
       "      <td>3.7252</td>\n",
       "    </tr>\n",
       "  </tbody>\n",
       "</table>\n",
       "</div>"
      ],
      "text/plain": [
       "  Rate Date         Currency  Rate Year Rate Month  Buying Rate  Central Rate  \\\n",
       "0  6/4/2021        US DOLLAR       2021       June     409.1800      409.6800   \n",
       "1  6/4/2021  POUNDS STERLING       2021       June     578.5396      579.2466   \n",
       "2  6/4/2021             EURO       2021       June     495.9262      496.5322   \n",
       "3  6/4/2021      SWISS FRANC       2021       June     452.5827      453.1357   \n",
       "4  6/4/2021              YEN       2021       June       3.7161        3.7206   \n",
       "\n",
       "   Selling Rate  \n",
       "0      410.1800  \n",
       "1      579.9535  \n",
       "2      497.1382  \n",
       "3      453.6888  \n",
       "4        3.7252  "
      ]
     },
     "execution_count": 4,
     "metadata": {},
     "output_type": "execute_result"
    }
   ],
   "source": [
    "df.head()"
   ]
  },
  {
   "cell_type": "code",
   "execution_count": 5,
   "metadata": {},
   "outputs": [
    {
     "data": {
      "text/plain": [
       "Rate Date        object\n",
       "Currency         object\n",
       "Rate Year         int64\n",
       "Rate Month       object\n",
       "Buying Rate     float64\n",
       "Central Rate    float64\n",
       "Selling Rate    float64\n",
       "dtype: object"
      ]
     },
     "execution_count": 5,
     "metadata": {},
     "output_type": "execute_result"
    }
   ],
   "source": [
    "df.dtypes #checks the type of data in each column"
   ]
  },
  {
   "cell_type": "code",
   "execution_count": 6,
   "metadata": {},
   "outputs": [],
   "source": [
    "#Let's replace the space between the column headers for ease of analysis"
   ]
  },
  {
   "cell_type": "code",
   "execution_count": 7,
   "metadata": {},
   "outputs": [],
   "source": [
    "df.rename(columns=lambda x: x.strip().lower().replace(\" \", \"_\"), inplace=True)"
   ]
  },
  {
   "cell_type": "code",
   "execution_count": 8,
   "metadata": {},
   "outputs": [
    {
     "data": {
      "text/html": [
       "<div>\n",
       "<style scoped>\n",
       "    .dataframe tbody tr th:only-of-type {\n",
       "        vertical-align: middle;\n",
       "    }\n",
       "\n",
       "    .dataframe tbody tr th {\n",
       "        vertical-align: top;\n",
       "    }\n",
       "\n",
       "    .dataframe thead th {\n",
       "        text-align: right;\n",
       "    }\n",
       "</style>\n",
       "<table border=\"1\" class=\"dataframe\">\n",
       "  <thead>\n",
       "    <tr style=\"text-align: right;\">\n",
       "      <th></th>\n",
       "      <th>rate_date</th>\n",
       "      <th>currency</th>\n",
       "      <th>rate_year</th>\n",
       "      <th>rate_month</th>\n",
       "      <th>buying_rate</th>\n",
       "      <th>central_rate</th>\n",
       "      <th>selling_rate</th>\n",
       "    </tr>\n",
       "  </thead>\n",
       "  <tbody>\n",
       "    <tr>\n",
       "      <th>0</th>\n",
       "      <td>6/4/2021</td>\n",
       "      <td>US DOLLAR</td>\n",
       "      <td>2021</td>\n",
       "      <td>June</td>\n",
       "      <td>409.1800</td>\n",
       "      <td>409.6800</td>\n",
       "      <td>410.1800</td>\n",
       "    </tr>\n",
       "    <tr>\n",
       "      <th>1</th>\n",
       "      <td>6/4/2021</td>\n",
       "      <td>POUNDS STERLING</td>\n",
       "      <td>2021</td>\n",
       "      <td>June</td>\n",
       "      <td>578.5396</td>\n",
       "      <td>579.2466</td>\n",
       "      <td>579.9535</td>\n",
       "    </tr>\n",
       "    <tr>\n",
       "      <th>2</th>\n",
       "      <td>6/4/2021</td>\n",
       "      <td>EURO</td>\n",
       "      <td>2021</td>\n",
       "      <td>June</td>\n",
       "      <td>495.9262</td>\n",
       "      <td>496.5322</td>\n",
       "      <td>497.1382</td>\n",
       "    </tr>\n",
       "    <tr>\n",
       "      <th>3</th>\n",
       "      <td>6/4/2021</td>\n",
       "      <td>SWISS FRANC</td>\n",
       "      <td>2021</td>\n",
       "      <td>June</td>\n",
       "      <td>452.5827</td>\n",
       "      <td>453.1357</td>\n",
       "      <td>453.6888</td>\n",
       "    </tr>\n",
       "    <tr>\n",
       "      <th>4</th>\n",
       "      <td>6/4/2021</td>\n",
       "      <td>YEN</td>\n",
       "      <td>2021</td>\n",
       "      <td>June</td>\n",
       "      <td>3.7161</td>\n",
       "      <td>3.7206</td>\n",
       "      <td>3.7252</td>\n",
       "    </tr>\n",
       "  </tbody>\n",
       "</table>\n",
       "</div>"
      ],
      "text/plain": [
       "  rate_date         currency  rate_year rate_month  buying_rate  central_rate  \\\n",
       "0  6/4/2021        US DOLLAR       2021       June     409.1800      409.6800   \n",
       "1  6/4/2021  POUNDS STERLING       2021       June     578.5396      579.2466   \n",
       "2  6/4/2021             EURO       2021       June     495.9262      496.5322   \n",
       "3  6/4/2021      SWISS FRANC       2021       June     452.5827      453.1357   \n",
       "4  6/4/2021              YEN       2021       June       3.7161        3.7206   \n",
       "\n",
       "   selling_rate  \n",
       "0      410.1800  \n",
       "1      579.9535  \n",
       "2      497.1382  \n",
       "3      453.6888  \n",
       "4        3.7252  "
      ]
     },
     "execution_count": 8,
     "metadata": {},
     "output_type": "execute_result"
    }
   ],
   "source": [
    "df.head()"
   ]
  },
  {
   "cell_type": "code",
   "execution_count": 9,
   "metadata": {},
   "outputs": [
    {
     "name": "stdout",
     "output_type": "stream",
     "text": [
      "<class 'pandas.core.frame.DataFrame'>\n",
      "RangeIndex: 46459 entries, 0 to 46458\n",
      "Data columns (total 7 columns):\n",
      " #   Column        Non-Null Count  Dtype  \n",
      "---  ------        --------------  -----  \n",
      " 0   rate_date     46459 non-null  object \n",
      " 1   currency      46459 non-null  object \n",
      " 2   rate_year     46459 non-null  int64  \n",
      " 3   rate_month    46459 non-null  object \n",
      " 4   buying_rate   46459 non-null  float64\n",
      " 5   central_rate  46459 non-null  float64\n",
      " 6   selling_rate  46459 non-null  float64\n",
      "dtypes: float64(3), int64(1), object(3)\n",
      "memory usage: 2.5+ MB\n"
     ]
    }
   ],
   "source": [
    "#let's check other info (e.g. null values)\n",
    "\n",
    "df.info()"
   ]
  },
  {
   "cell_type": "code",
   "execution_count": 10,
   "metadata": {},
   "outputs": [],
   "source": [
    "#Let's remove unwanted columns"
   ]
  },
  {
   "cell_type": "code",
   "execution_count": 11,
   "metadata": {},
   "outputs": [],
   "source": [
    "df.drop([\"central_rate\", \"selling_rate\"], axis=1, inplace=True)"
   ]
  },
  {
   "cell_type": "code",
   "execution_count": 12,
   "metadata": {},
   "outputs": [
    {
     "data": {
      "text/html": [
       "<div>\n",
       "<style scoped>\n",
       "    .dataframe tbody tr th:only-of-type {\n",
       "        vertical-align: middle;\n",
       "    }\n",
       "\n",
       "    .dataframe tbody tr th {\n",
       "        vertical-align: top;\n",
       "    }\n",
       "\n",
       "    .dataframe thead th {\n",
       "        text-align: right;\n",
       "    }\n",
       "</style>\n",
       "<table border=\"1\" class=\"dataframe\">\n",
       "  <thead>\n",
       "    <tr style=\"text-align: right;\">\n",
       "      <th></th>\n",
       "      <th>rate_date</th>\n",
       "      <th>currency</th>\n",
       "      <th>rate_year</th>\n",
       "      <th>rate_month</th>\n",
       "      <th>buying_rate</th>\n",
       "    </tr>\n",
       "  </thead>\n",
       "  <tbody>\n",
       "    <tr>\n",
       "      <th>0</th>\n",
       "      <td>6/4/2021</td>\n",
       "      <td>US DOLLAR</td>\n",
       "      <td>2021</td>\n",
       "      <td>June</td>\n",
       "      <td>409.1800</td>\n",
       "    </tr>\n",
       "    <tr>\n",
       "      <th>1</th>\n",
       "      <td>6/4/2021</td>\n",
       "      <td>POUNDS STERLING</td>\n",
       "      <td>2021</td>\n",
       "      <td>June</td>\n",
       "      <td>578.5396</td>\n",
       "    </tr>\n",
       "    <tr>\n",
       "      <th>2</th>\n",
       "      <td>6/4/2021</td>\n",
       "      <td>EURO</td>\n",
       "      <td>2021</td>\n",
       "      <td>June</td>\n",
       "      <td>495.9262</td>\n",
       "    </tr>\n",
       "    <tr>\n",
       "      <th>3</th>\n",
       "      <td>6/4/2021</td>\n",
       "      <td>SWISS FRANC</td>\n",
       "      <td>2021</td>\n",
       "      <td>June</td>\n",
       "      <td>452.5827</td>\n",
       "    </tr>\n",
       "    <tr>\n",
       "      <th>4</th>\n",
       "      <td>6/4/2021</td>\n",
       "      <td>YEN</td>\n",
       "      <td>2021</td>\n",
       "      <td>June</td>\n",
       "      <td>3.7161</td>\n",
       "    </tr>\n",
       "  </tbody>\n",
       "</table>\n",
       "</div>"
      ],
      "text/plain": [
       "  rate_date         currency  rate_year rate_month  buying_rate\n",
       "0  6/4/2021        US DOLLAR       2021       June     409.1800\n",
       "1  6/4/2021  POUNDS STERLING       2021       June     578.5396\n",
       "2  6/4/2021             EURO       2021       June     495.9262\n",
       "3  6/4/2021      SWISS FRANC       2021       June     452.5827\n",
       "4  6/4/2021              YEN       2021       June       3.7161"
      ]
     },
     "execution_count": 12,
     "metadata": {},
     "output_type": "execute_result"
    }
   ],
   "source": [
    "df.head()"
   ]
  },
  {
   "cell_type": "code",
   "execution_count": 13,
   "metadata": {},
   "outputs": [],
   "source": [
    "df[\"rate_date\"] = pd.to_datetime(df.rate_date) #converts the \"rate_date\" to datetime format"
   ]
  },
  {
   "cell_type": "code",
   "execution_count": 14,
   "metadata": {},
   "outputs": [
    {
     "data": {
      "text/html": [
       "<div>\n",
       "<style scoped>\n",
       "    .dataframe tbody tr th:only-of-type {\n",
       "        vertical-align: middle;\n",
       "    }\n",
       "\n",
       "    .dataframe tbody tr th {\n",
       "        vertical-align: top;\n",
       "    }\n",
       "\n",
       "    .dataframe thead th {\n",
       "        text-align: right;\n",
       "    }\n",
       "</style>\n",
       "<table border=\"1\" class=\"dataframe\">\n",
       "  <thead>\n",
       "    <tr style=\"text-align: right;\">\n",
       "      <th></th>\n",
       "      <th>rate_date</th>\n",
       "      <th>currency</th>\n",
       "      <th>rate_year</th>\n",
       "      <th>rate_month</th>\n",
       "      <th>buying_rate</th>\n",
       "    </tr>\n",
       "  </thead>\n",
       "  <tbody>\n",
       "    <tr>\n",
       "      <th>0</th>\n",
       "      <td>2021-06-04</td>\n",
       "      <td>US DOLLAR</td>\n",
       "      <td>2021</td>\n",
       "      <td>June</td>\n",
       "      <td>409.1800</td>\n",
       "    </tr>\n",
       "    <tr>\n",
       "      <th>1</th>\n",
       "      <td>2021-06-04</td>\n",
       "      <td>POUNDS STERLING</td>\n",
       "      <td>2021</td>\n",
       "      <td>June</td>\n",
       "      <td>578.5396</td>\n",
       "    </tr>\n",
       "    <tr>\n",
       "      <th>2</th>\n",
       "      <td>2021-06-04</td>\n",
       "      <td>EURO</td>\n",
       "      <td>2021</td>\n",
       "      <td>June</td>\n",
       "      <td>495.9262</td>\n",
       "    </tr>\n",
       "    <tr>\n",
       "      <th>3</th>\n",
       "      <td>2021-06-04</td>\n",
       "      <td>SWISS FRANC</td>\n",
       "      <td>2021</td>\n",
       "      <td>June</td>\n",
       "      <td>452.5827</td>\n",
       "    </tr>\n",
       "    <tr>\n",
       "      <th>4</th>\n",
       "      <td>2021-06-04</td>\n",
       "      <td>YEN</td>\n",
       "      <td>2021</td>\n",
       "      <td>June</td>\n",
       "      <td>3.7161</td>\n",
       "    </tr>\n",
       "  </tbody>\n",
       "</table>\n",
       "</div>"
      ],
      "text/plain": [
       "   rate_date         currency  rate_year rate_month  buying_rate\n",
       "0 2021-06-04        US DOLLAR       2021       June     409.1800\n",
       "1 2021-06-04  POUNDS STERLING       2021       June     578.5396\n",
       "2 2021-06-04             EURO       2021       June     495.9262\n",
       "3 2021-06-04      SWISS FRANC       2021       June     452.5827\n",
       "4 2021-06-04              YEN       2021       June       3.7161"
      ]
     },
     "execution_count": 14,
     "metadata": {},
     "output_type": "execute_result"
    }
   ],
   "source": [
    "df.head()"
   ]
  },
  {
   "cell_type": "markdown",
   "metadata": {},
   "source": [
    "# Filter out the Pounds Sterling"
   ]
  },
  {
   "cell_type": "code",
   "execution_count": 15,
   "metadata": {},
   "outputs": [],
   "source": [
    "df = df[df[\"currency\"]==\"POUNDS STERLING\"]"
   ]
  },
  {
   "cell_type": "code",
   "execution_count": 16,
   "metadata": {},
   "outputs": [
    {
     "data": {
      "text/html": [
       "<div>\n",
       "<style scoped>\n",
       "    .dataframe tbody tr th:only-of-type {\n",
       "        vertical-align: middle;\n",
       "    }\n",
       "\n",
       "    .dataframe tbody tr th {\n",
       "        vertical-align: top;\n",
       "    }\n",
       "\n",
       "    .dataframe thead th {\n",
       "        text-align: right;\n",
       "    }\n",
       "</style>\n",
       "<table border=\"1\" class=\"dataframe\">\n",
       "  <thead>\n",
       "    <tr style=\"text-align: right;\">\n",
       "      <th></th>\n",
       "      <th>rate_date</th>\n",
       "      <th>currency</th>\n",
       "      <th>rate_year</th>\n",
       "      <th>rate_month</th>\n",
       "      <th>buying_rate</th>\n",
       "    </tr>\n",
       "  </thead>\n",
       "  <tbody>\n",
       "    <tr>\n",
       "      <th>1</th>\n",
       "      <td>2021-06-04</td>\n",
       "      <td>POUNDS STERLING</td>\n",
       "      <td>2021</td>\n",
       "      <td>June</td>\n",
       "      <td>578.5396</td>\n",
       "    </tr>\n",
       "    <tr>\n",
       "      <th>13</th>\n",
       "      <td>2021-06-03</td>\n",
       "      <td>POUNDS STERLING</td>\n",
       "      <td>2021</td>\n",
       "      <td>June</td>\n",
       "      <td>580.1638</td>\n",
       "    </tr>\n",
       "    <tr>\n",
       "      <th>25</th>\n",
       "      <td>2021-06-02</td>\n",
       "      <td>POUNDS STERLING</td>\n",
       "      <td>2021</td>\n",
       "      <td>June</td>\n",
       "      <td>578.7189</td>\n",
       "    </tr>\n",
       "    <tr>\n",
       "      <th>37</th>\n",
       "      <td>2021-06-01</td>\n",
       "      <td>POUNDS STERLING</td>\n",
       "      <td>2021</td>\n",
       "      <td>June</td>\n",
       "      <td>579.6757</td>\n",
       "    </tr>\n",
       "    <tr>\n",
       "      <th>49</th>\n",
       "      <td>2021-05-31</td>\n",
       "      <td>POUNDS STERLING</td>\n",
       "      <td>2021</td>\n",
       "      <td>May</td>\n",
       "      <td>580.1256</td>\n",
       "    </tr>\n",
       "  </tbody>\n",
       "</table>\n",
       "</div>"
      ],
      "text/plain": [
       "    rate_date         currency  rate_year rate_month  buying_rate\n",
       "1  2021-06-04  POUNDS STERLING       2021       June     578.5396\n",
       "13 2021-06-03  POUNDS STERLING       2021       June     580.1638\n",
       "25 2021-06-02  POUNDS STERLING       2021       June     578.7189\n",
       "37 2021-06-01  POUNDS STERLING       2021       June     579.6757\n",
       "49 2021-05-31  POUNDS STERLING       2021        May     580.1256"
      ]
     },
     "execution_count": 16,
     "metadata": {},
     "output_type": "execute_result"
    }
   ],
   "source": [
    "df.head()"
   ]
  },
  {
   "cell_type": "code",
   "execution_count": 17,
   "metadata": {},
   "outputs": [
    {
     "data": {
      "text/plain": [
       "4761"
      ]
     },
     "execution_count": 17,
     "metadata": {},
     "output_type": "execute_result"
    }
   ],
   "source": [
    "len(df)"
   ]
  },
  {
   "cell_type": "code",
   "execution_count": 18,
   "metadata": {},
   "outputs": [],
   "source": [
    "#this has reduced the records from 46,459 to 4,761."
   ]
  },
  {
   "cell_type": "code",
   "execution_count": 20,
   "metadata": {},
   "outputs": [],
   "source": [
    "#In order to get some descriptive statistics (e.g. mean, median, minimum, maximum) for the data.\n",
    "#we'll use the \"describe\" function shown below"
   ]
  },
  {
   "cell_type": "code",
   "execution_count": 21,
   "metadata": {},
   "outputs": [
    {
     "data": {
      "text/html": [
       "<div>\n",
       "<style scoped>\n",
       "    .dataframe tbody tr th:only-of-type {\n",
       "        vertical-align: middle;\n",
       "    }\n",
       "\n",
       "    .dataframe tbody tr th {\n",
       "        vertical-align: top;\n",
       "    }\n",
       "\n",
       "    .dataframe thead th {\n",
       "        text-align: right;\n",
       "    }\n",
       "</style>\n",
       "<table border=\"1\" class=\"dataframe\">\n",
       "  <thead>\n",
       "    <tr style=\"text-align: right;\">\n",
       "      <th></th>\n",
       "      <th>rate_year</th>\n",
       "      <th>buying_rate</th>\n",
       "    </tr>\n",
       "  </thead>\n",
       "  <tbody>\n",
       "    <tr>\n",
       "      <th>count</th>\n",
       "      <td>4761.000000</td>\n",
       "      <td>4.761000e+03</td>\n",
       "    </tr>\n",
       "    <tr>\n",
       "      <th>mean</th>\n",
       "      <td>2011.190716</td>\n",
       "      <td>7.538170e+02</td>\n",
       "    </tr>\n",
       "    <tr>\n",
       "      <th>std</th>\n",
       "      <td>5.623346</td>\n",
       "      <td>3.245857e+04</td>\n",
       "    </tr>\n",
       "    <tr>\n",
       "      <th>min</th>\n",
       "      <td>2001.000000</td>\n",
       "      <td>1.197060e+02</td>\n",
       "    </tr>\n",
       "    <tr>\n",
       "      <th>25%</th>\n",
       "      <td>2006.000000</td>\n",
       "      <td>2.321972e+02</td>\n",
       "    </tr>\n",
       "    <tr>\n",
       "      <th>50%</th>\n",
       "      <td>2011.000000</td>\n",
       "      <td>2.464969e+02</td>\n",
       "    </tr>\n",
       "    <tr>\n",
       "      <th>75%</th>\n",
       "      <td>2016.000000</td>\n",
       "      <td>3.702710e+02</td>\n",
       "    </tr>\n",
       "    <tr>\n",
       "      <th>max</th>\n",
       "      <td>2021.000000</td>\n",
       "      <td>2.239917e+06</td>\n",
       "    </tr>\n",
       "  </tbody>\n",
       "</table>\n",
       "</div>"
      ],
      "text/plain": [
       "         rate_year   buying_rate\n",
       "count  4761.000000  4.761000e+03\n",
       "mean   2011.190716  7.538170e+02\n",
       "std       5.623346  3.245857e+04\n",
       "min    2001.000000  1.197060e+02\n",
       "25%    2006.000000  2.321972e+02\n",
       "50%    2011.000000  2.464969e+02\n",
       "75%    2016.000000  3.702710e+02\n",
       "max    2021.000000  2.239917e+06"
      ]
     },
     "execution_count": 21,
     "metadata": {},
     "output_type": "execute_result"
    }
   ],
   "source": [
    "df.describe()"
   ]
  },
  {
   "cell_type": "code",
   "execution_count": 22,
   "metadata": {},
   "outputs": [],
   "source": [
    "#Note the significantly large max value for the \"buying_rate\". THis indicates an error. "
   ]
  },
  {
   "cell_type": "code",
   "execution_count": 23,
   "metadata": {},
   "outputs": [],
   "source": [
    "#Let's find it"
   ]
  },
  {
   "cell_type": "code",
   "execution_count": 26,
   "metadata": {},
   "outputs": [
    {
     "data": {
      "text/html": [
       "<div>\n",
       "<style scoped>\n",
       "    .dataframe tbody tr th:only-of-type {\n",
       "        vertical-align: middle;\n",
       "    }\n",
       "\n",
       "    .dataframe tbody tr th {\n",
       "        vertical-align: top;\n",
       "    }\n",
       "\n",
       "    .dataframe thead th {\n",
       "        text-align: right;\n",
       "    }\n",
       "</style>\n",
       "<table border=\"1\" class=\"dataframe\">\n",
       "  <thead>\n",
       "    <tr style=\"text-align: right;\">\n",
       "      <th></th>\n",
       "      <th>rate_date</th>\n",
       "      <th>currency</th>\n",
       "      <th>rate_year</th>\n",
       "      <th>rate_month</th>\n",
       "      <th>buying_rate</th>\n",
       "    </tr>\n",
       "  </thead>\n",
       "  <tbody>\n",
       "  </tbody>\n",
       "</table>\n",
       "</div>"
      ],
      "text/plain": [
       "Empty DataFrame\n",
       "Columns: [rate_date, currency, rate_year, rate_month, buying_rate]\n",
       "Index: []"
      ]
     },
     "execution_count": 26,
     "metadata": {},
     "output_type": "execute_result"
    }
   ],
   "source": [
    "df[(df[\"buying_rate\"]> 2000000 ) ]"
   ]
  },
  {
   "cell_type": "code",
   "execution_count": null,
   "metadata": {},
   "outputs": [],
   "source": [
    "#Let's drop it"
   ]
  },
  {
   "cell_type": "code",
   "execution_count": 25,
   "metadata": {},
   "outputs": [],
   "source": [
    "df = df.drop(df[(df[\"buying_rate\"]> 2000000 )].index)"
   ]
  },
  {
   "cell_type": "code",
   "execution_count": null,
   "metadata": {},
   "outputs": [],
   "source": [
    "#This analysis took place in 2021, hence, there's incomplete 2021 data.\n",
    "#As such, it's excluded from the analysis. "
   ]
  },
  {
   "cell_type": "code",
   "execution_count": 29,
   "metadata": {},
   "outputs": [],
   "source": [
    "df = df[df[\"rate_year\"]!= 2021]"
   ]
  },
  {
   "cell_type": "code",
   "execution_count": 30,
   "metadata": {},
   "outputs": [
    {
     "data": {
      "text/plain": [
       "4665"
      ]
     },
     "execution_count": 30,
     "metadata": {},
     "output_type": "execute_result"
    }
   ],
   "source": [
    "len(df)"
   ]
  },
  {
   "cell_type": "code",
   "execution_count": 31,
   "metadata": {},
   "outputs": [
    {
     "data": {
      "text/html": [
       "<div>\n",
       "<style scoped>\n",
       "    .dataframe tbody tr th:only-of-type {\n",
       "        vertical-align: middle;\n",
       "    }\n",
       "\n",
       "    .dataframe tbody tr th {\n",
       "        vertical-align: top;\n",
       "    }\n",
       "\n",
       "    .dataframe thead th {\n",
       "        text-align: right;\n",
       "    }\n",
       "</style>\n",
       "<table border=\"1\" class=\"dataframe\">\n",
       "  <thead>\n",
       "    <tr style=\"text-align: right;\">\n",
       "      <th></th>\n",
       "      <th>rate_date</th>\n",
       "      <th>currency</th>\n",
       "      <th>rate_year</th>\n",
       "      <th>rate_month</th>\n",
       "      <th>buying_rate</th>\n",
       "    </tr>\n",
       "  </thead>\n",
       "  <tbody>\n",
       "    <tr>\n",
       "      <th>144</th>\n",
       "      <td>2021-05-07</td>\n",
       "      <td>POUNDS STERLING</td>\n",
       "      <td>2020</td>\n",
       "      <td>May</td>\n",
       "      <td>526.7721</td>\n",
       "    </tr>\n",
       "    <tr>\n",
       "      <th>1172</th>\n",
       "      <td>2020-12-31</td>\n",
       "      <td>POUNDS STERLING</td>\n",
       "      <td>2020</td>\n",
       "      <td>December</td>\n",
       "      <td>517.3350</td>\n",
       "    </tr>\n",
       "    <tr>\n",
       "      <th>1184</th>\n",
       "      <td>2020-12-30</td>\n",
       "      <td>POUNDS STERLING</td>\n",
       "      <td>2020</td>\n",
       "      <td>December</td>\n",
       "      <td>515.8948</td>\n",
       "    </tr>\n",
       "    <tr>\n",
       "      <th>1196</th>\n",
       "      <td>2020-12-29</td>\n",
       "      <td>POUNDS STERLING</td>\n",
       "      <td>2020</td>\n",
       "      <td>December</td>\n",
       "      <td>511.8395</td>\n",
       "    </tr>\n",
       "    <tr>\n",
       "      <th>1208</th>\n",
       "      <td>2020-12-24</td>\n",
       "      <td>POUNDS STERLING</td>\n",
       "      <td>2020</td>\n",
       "      <td>December</td>\n",
       "      <td>514.9852</td>\n",
       "    </tr>\n",
       "  </tbody>\n",
       "</table>\n",
       "</div>"
      ],
      "text/plain": [
       "      rate_date         currency  rate_year rate_month  buying_rate\n",
       "144  2021-05-07  POUNDS STERLING       2020        May     526.7721\n",
       "1172 2020-12-31  POUNDS STERLING       2020   December     517.3350\n",
       "1184 2020-12-30  POUNDS STERLING       2020   December     515.8948\n",
       "1196 2020-12-29  POUNDS STERLING       2020   December     511.8395\n",
       "1208 2020-12-24  POUNDS STERLING       2020   December     514.9852"
      ]
     },
     "execution_count": 31,
     "metadata": {},
     "output_type": "execute_result"
    }
   ],
   "source": [
    "df.head()"
   ]
  },
  {
   "cell_type": "code",
   "execution_count": 32,
   "metadata": {},
   "outputs": [],
   "source": [
    "#looking at the revised df, it appears that the top row should be in 2021, therefore, it's removed."
   ]
  },
  {
   "cell_type": "code",
   "execution_count": 33,
   "metadata": {},
   "outputs": [],
   "source": [
    "df.drop(df.index[[0]], inplace=True)"
   ]
  },
  {
   "cell_type": "code",
   "execution_count": 50,
   "metadata": {},
   "outputs": [
    {
     "data": {
      "text/plain": [
       "<AxesSubplot:xlabel='rate_date', ylabel='buying_rate'>"
      ]
     },
     "execution_count": 50,
     "metadata": {},
     "output_type": "execute_result"
    },
    {
     "data": {
      "image/png": "[encoded data removed]",
      "text/plain": [
       "<Figure size 1080x576 with 1 Axes>"
      ]
     },
     "metadata": {},
     "output_type": "display_data"
    }
   ],
   "source": [
    "fig, ax = plt.subplots(figsize=(15,8))\n",
    "\n",
    "sns.scatterplot(data=df, x=\"rate_date\", y=\"buying_rate\", color=\"magenta\")"
   ]
  },
  {
   "cell_type": "code",
   "execution_count": 36,
   "metadata": {},
   "outputs": [
    {
     "data": {
      "text/html": [
       "<div>\n",
       "<style scoped>\n",
       "    .dataframe tbody tr th:only-of-type {\n",
       "        vertical-align: middle;\n",
       "    }\n",
       "\n",
       "    .dataframe tbody tr th {\n",
       "        vertical-align: top;\n",
       "    }\n",
       "\n",
       "    .dataframe thead th {\n",
       "        text-align: right;\n",
       "    }\n",
       "</style>\n",
       "<table border=\"1\" class=\"dataframe\">\n",
       "  <thead>\n",
       "    <tr style=\"text-align: right;\">\n",
       "      <th></th>\n",
       "      <th>rate_date</th>\n",
       "      <th>currency</th>\n",
       "      <th>rate_year</th>\n",
       "      <th>rate_month</th>\n",
       "      <th>buying_rate</th>\n",
       "    </tr>\n",
       "  </thead>\n",
       "  <tbody>\n",
       "    <tr>\n",
       "      <th>34740</th>\n",
       "      <td>2008-08-12</td>\n",
       "      <td>POUNDS STERLING</td>\n",
       "      <td>2008</td>\n",
       "      <td>August</td>\n",
       "      <td>119.706</td>\n",
       "    </tr>\n",
       "  </tbody>\n",
       "</table>\n",
       "</div>"
      ],
      "text/plain": [
       "       rate_date         currency  rate_year rate_month  buying_rate\n",
       "34740 2008-08-12  POUNDS STERLING       2008     August      119.706"
      ]
     },
     "execution_count": 36,
     "metadata": {},
     "output_type": "execute_result"
    }
   ],
   "source": [
    "df[(df[\"rate_year\"] == 2008) & (df[\"buying_rate\"]< 150)] "
   ]
  },
  {
   "cell_type": "code",
   "execution_count": null,
   "metadata": {},
   "outputs": [],
   "source": [
    "df = df.drop(df[(df[\"rate_year\"] == 2008) & (df[\"buying_rate\"]< 150)].index)"
   ]
  },
  {
   "cell_type": "code",
   "execution_count": null,
   "metadata": {},
   "outputs": [],
   "source": [
    "#df[(df[\"rate_year\"] == 2004) & (df[\"buying_rate\"]< 230)] "
   ]
  },
  {
   "cell_type": "code",
   "execution_count": null,
   "metadata": {},
   "outputs": [],
   "source": [
    "#df[(df[\"rate_year\"] == 2015) & (df[\"buying_rate\"]> 350)] "
   ]
  },
  {
   "cell_type": "code",
   "execution_count": 35,
   "metadata": {},
   "outputs": [
    {
     "data": {
      "text/html": [
       "<div>\n",
       "<style scoped>\n",
       "    .dataframe tbody tr th:only-of-type {\n",
       "        vertical-align: middle;\n",
       "    }\n",
       "\n",
       "    .dataframe tbody tr th {\n",
       "        vertical-align: top;\n",
       "    }\n",
       "\n",
       "    .dataframe thead th {\n",
       "        text-align: right;\n",
       "    }\n",
       "</style>\n",
       "<table border=\"1\" class=\"dataframe\">\n",
       "  <thead>\n",
       "    <tr style=\"text-align: right;\">\n",
       "      <th></th>\n",
       "      <th>buying_rate</th>\n",
       "    </tr>\n",
       "    <tr>\n",
       "      <th>rate_year</th>\n",
       "      <th></th>\n",
       "    </tr>\n",
       "  </thead>\n",
       "  <tbody>\n",
       "    <tr>\n",
       "      <th>2001</th>\n",
       "      <td>161.940985</td>\n",
       "    </tr>\n",
       "    <tr>\n",
       "      <th>2002</th>\n",
       "      <td>180.506688</td>\n",
       "    </tr>\n",
       "    <tr>\n",
       "      <th>2003</th>\n",
       "      <td>209.806118</td>\n",
       "    </tr>\n",
       "    <tr>\n",
       "      <th>2004</th>\n",
       "      <td>242.630631</td>\n",
       "    </tr>\n",
       "    <tr>\n",
       "      <th>2005</th>\n",
       "      <td>237.747661</td>\n",
       "    </tr>\n",
       "    <tr>\n",
       "      <th>2006</th>\n",
       "      <td>233.030476</td>\n",
       "    </tr>\n",
       "    <tr>\n",
       "      <th>2007</th>\n",
       "      <td>247.438658</td>\n",
       "    </tr>\n",
       "    <tr>\n",
       "      <th>2008</th>\n",
       "      <td>215.870029</td>\n",
       "    </tr>\n",
       "    <tr>\n",
       "      <th>2009</th>\n",
       "      <td>229.366047</td>\n",
       "    </tr>\n",
       "    <tr>\n",
       "      <th>2010</th>\n",
       "      <td>228.479425</td>\n",
       "    </tr>\n",
       "    <tr>\n",
       "      <th>2011</th>\n",
       "      <td>242.647682</td>\n",
       "    </tr>\n",
       "    <tr>\n",
       "      <th>2012</th>\n",
       "      <td>245.548289</td>\n",
       "    </tr>\n",
       "    <tr>\n",
       "      <th>2013</th>\n",
       "      <td>242.100664</td>\n",
       "    </tr>\n",
       "    <tr>\n",
       "      <th>2014</th>\n",
       "      <td>256.933370</td>\n",
       "    </tr>\n",
       "    <tr>\n",
       "      <th>2015</th>\n",
       "      <td>294.332092</td>\n",
       "    </tr>\n",
       "    <tr>\n",
       "      <th>2016</th>\n",
       "      <td>337.608406</td>\n",
       "    </tr>\n",
       "    <tr>\n",
       "      <th>2017</th>\n",
       "      <td>392.530362</td>\n",
       "    </tr>\n",
       "    <tr>\n",
       "      <th>2018</th>\n",
       "      <td>407.270215</td>\n",
       "    </tr>\n",
       "    <tr>\n",
       "      <th>2019</th>\n",
       "      <td>390.736814</td>\n",
       "    </tr>\n",
       "    <tr>\n",
       "      <th>2020</th>\n",
       "      <td>457.157542</td>\n",
       "    </tr>\n",
       "  </tbody>\n",
       "</table>\n",
       "</div>"
      ],
      "text/plain": [
       "           buying_rate\n",
       "rate_year             \n",
       "2001        161.940985\n",
       "2002        180.506688\n",
       "2003        209.806118\n",
       "2004        242.630631\n",
       "2005        237.747661\n",
       "2006        233.030476\n",
       "2007        247.438658\n",
       "2008        215.870029\n",
       "2009        229.366047\n",
       "2010        228.479425\n",
       "2011        242.647682\n",
       "2012        245.548289\n",
       "2013        242.100664\n",
       "2014        256.933370\n",
       "2015        294.332092\n",
       "2016        337.608406\n",
       "2017        392.530362\n",
       "2018        407.270215\n",
       "2019        390.736814\n",
       "2020        457.157542"
      ]
     },
     "execution_count": 35,
     "metadata": {},
     "output_type": "execute_result"
    }
   ],
   "source": [
    "df.groupby(\"rate_year\").mean()"
   ]
  },
  {
   "cell_type": "code",
   "execution_count": 37,
   "metadata": {},
   "outputs": [
    {
     "data": {
      "text/html": [
       "<div>\n",
       "<style scoped>\n",
       "    .dataframe tbody tr th:only-of-type {\n",
       "        vertical-align: middle;\n",
       "    }\n",
       "\n",
       "    .dataframe tbody tr th {\n",
       "        vertical-align: top;\n",
       "    }\n",
       "\n",
       "    .dataframe thead th {\n",
       "        text-align: right;\n",
       "    }\n",
       "</style>\n",
       "<table border=\"1\" class=\"dataframe\">\n",
       "  <thead>\n",
       "    <tr style=\"text-align: right;\">\n",
       "      <th></th>\n",
       "      <th>buying_rate</th>\n",
       "    </tr>\n",
       "    <tr>\n",
       "      <th>rate_year</th>\n",
       "      <th></th>\n",
       "    </tr>\n",
       "  </thead>\n",
       "  <tbody>\n",
       "    <tr>\n",
       "      <th>2001</th>\n",
       "      <td>161.940985</td>\n",
       "    </tr>\n",
       "    <tr>\n",
       "      <th>2002</th>\n",
       "      <td>180.506688</td>\n",
       "    </tr>\n",
       "    <tr>\n",
       "      <th>2003</th>\n",
       "      <td>209.806118</td>\n",
       "    </tr>\n",
       "    <tr>\n",
       "      <th>2004</th>\n",
       "      <td>242.630631</td>\n",
       "    </tr>\n",
       "    <tr>\n",
       "      <th>2005</th>\n",
       "      <td>237.747661</td>\n",
       "    </tr>\n",
       "    <tr>\n",
       "      <th>2006</th>\n",
       "      <td>233.030476</td>\n",
       "    </tr>\n",
       "    <tr>\n",
       "      <th>2007</th>\n",
       "      <td>247.438658</td>\n",
       "    </tr>\n",
       "    <tr>\n",
       "      <th>2008</th>\n",
       "      <td>215.870029</td>\n",
       "    </tr>\n",
       "    <tr>\n",
       "      <th>2009</th>\n",
       "      <td>229.366047</td>\n",
       "    </tr>\n",
       "    <tr>\n",
       "      <th>2010</th>\n",
       "      <td>228.479425</td>\n",
       "    </tr>\n",
       "    <tr>\n",
       "      <th>2011</th>\n",
       "      <td>242.647682</td>\n",
       "    </tr>\n",
       "    <tr>\n",
       "      <th>2012</th>\n",
       "      <td>245.548289</td>\n",
       "    </tr>\n",
       "    <tr>\n",
       "      <th>2013</th>\n",
       "      <td>242.100664</td>\n",
       "    </tr>\n",
       "    <tr>\n",
       "      <th>2014</th>\n",
       "      <td>256.933370</td>\n",
       "    </tr>\n",
       "    <tr>\n",
       "      <th>2015</th>\n",
       "      <td>294.332092</td>\n",
       "    </tr>\n",
       "    <tr>\n",
       "      <th>2016</th>\n",
       "      <td>337.608406</td>\n",
       "    </tr>\n",
       "    <tr>\n",
       "      <th>2017</th>\n",
       "      <td>392.530362</td>\n",
       "    </tr>\n",
       "    <tr>\n",
       "      <th>2018</th>\n",
       "      <td>407.270215</td>\n",
       "    </tr>\n",
       "    <tr>\n",
       "      <th>2019</th>\n",
       "      <td>390.736814</td>\n",
       "    </tr>\n",
       "    <tr>\n",
       "      <th>2020</th>\n",
       "      <td>457.157542</td>\n",
       "    </tr>\n",
       "  </tbody>\n",
       "</table>\n",
       "</div>"
      ],
      "text/plain": [
       "           buying_rate\n",
       "rate_year             \n",
       "2001        161.940985\n",
       "2002        180.506688\n",
       "2003        209.806118\n",
       "2004        242.630631\n",
       "2005        237.747661\n",
       "2006        233.030476\n",
       "2007        247.438658\n",
       "2008        215.870029\n",
       "2009        229.366047\n",
       "2010        228.479425\n",
       "2011        242.647682\n",
       "2012        245.548289\n",
       "2013        242.100664\n",
       "2014        256.933370\n",
       "2015        294.332092\n",
       "2016        337.608406\n",
       "2017        392.530362\n",
       "2018        407.270215\n",
       "2019        390.736814\n",
       "2020        457.157542"
      ]
     },
     "execution_count": 37,
     "metadata": {},
     "output_type": "execute_result"
    }
   ],
   "source": [
    "df.groupby(\"rate_year\").mean()"
   ]
  },
  {
   "cell_type": "code",
   "execution_count": 38,
   "metadata": {},
   "outputs": [],
   "source": [
    "average_year = df.groupby(\"rate_year\").mean()"
   ]
  },
  {
   "cell_type": "code",
   "execution_count": null,
   "metadata": {},
   "outputs": [],
   "source": [
    "average_year.to_csv(\"average_year_rate_GBP_to_NGN_2001-2020.csv\")"
   ]
  },
  {
   "cell_type": "code",
   "execution_count": null,
   "metadata": {},
   "outputs": [],
   "source": [
    "df.groupby(\"rate_month\").mean()[\"buying_rate\"].sort_values(ascending=True)"
   ]
  },
  {
   "cell_type": "code",
   "execution_count": null,
   "metadata": {},
   "outputs": [],
   "source": [
    "df[\"rate_month\"].replace({\"8\":\"August\", \"August\\t\":\"August\", \"August \":\"August\"}, inplace=True)"
   ]
  },
  {
   "cell_type": "code",
   "execution_count": null,
   "metadata": {},
   "outputs": [],
   "source": [
    "df.groupby(\"rate_month\").mean()[\"buying_rate\"].sort_values(ascending=True)"
   ]
  },
  {
   "cell_type": "code",
   "execution_count": null,
   "metadata": {},
   "outputs": [],
   "source": [
    "df.head()"
   ]
  },
  {
   "cell_type": "code",
   "execution_count": null,
   "metadata": {},
   "outputs": [],
   "source": [
    "df"
   ]
  },
  {
   "cell_type": "code",
   "execution_count": null,
   "metadata": {},
   "outputs": [],
   "source": [
    "#   category_orders= {\"December\", \"November\", \"October\", \"September\", \"August\", \"July\", \n",
    "#\"June\", \"May\", \"April\", \"March\", \"February\", \"January\"})"
   ]
  },
  {
   "cell_type": "code",
   "execution_count": 41,
   "metadata": {},
   "outputs": [
    {
     "data": {
      "image/png": "[encoded data removed]",
      "text/plain": [
       "<Figure size 1080x576 with 1 Axes>"
      ]
     },
     "metadata": {},
     "output_type": "display_data"
    }
   ],
   "source": [
    "fig, ax = plt.subplots(figsize=(15,8))\n",
    "ax = sns.boxplot(x=\"rate_year\", y=\"buying_rate\", data=df, showfliers=False)"
   ]
  },
  {
   "cell_type": "code",
   "execution_count": null,
   "metadata": {},
   "outputs": [],
   "source": []
  },
  {
   "cell_type": "code",
   "execution_count": 42,
   "metadata": {},
   "outputs": [
    {
     "data": {
      "image/png": "[encoded data removed]",
      "text/plain": [
       "<Figure size 1080x576 with 1 Axes>"
      ]
     },
     "metadata": {},
     "output_type": "display_data"
    }
   ],
   "source": [
    "fig, ax = plt.subplots(figsize=(15,8))\n",
    "ax = sns.boxplot(data=df, x=\"rate_month\", y=\"buying_rate\", \n",
    "                 showfliers=False,\n",
    "                 order=[\"January\", \"February\", \"March\", \"April\", \"May\", \"June\", \n",
    "                            \"July\", \"August\", \"September\", \"October\", \"November\", \"December\"], \n",
    "                 palette=\"Set3\",\n",
    "                linewidth=2.0)"
   ]
  },
  {
   "cell_type": "code",
   "execution_count": 43,
   "metadata": {},
   "outputs": [
    {
     "data": {
      "text/plain": [
       "<AxesSubplot:xlabel='rate_year', ylabel='buying_rate'>"
      ]
     },
     "execution_count": 43,
     "metadata": {},
     "output_type": "execute_result"
    },
    {
     "data": {
      "image/png": "[encoded data removed]",
      "text/plain": [
       "<Figure size 1080x576 with 1 Axes>"
      ]
     },
     "metadata": {},
     "output_type": "display_data"
    }
   ],
   "source": [
    "fig, ax = plt.subplots(figsize=(15,8))\n",
    "\n",
    "sns.barplot(data=df, x=\"rate_year\", y=\"buying_rate\")"
   ]
  },
  {
   "cell_type": "code",
   "execution_count": 47,
   "metadata": {},
   "outputs": [
    {
     "data": {
      "text/html": [
       "<div>\n",
       "<style scoped>\n",
       "    .dataframe tbody tr th:only-of-type {\n",
       "        vertical-align: middle;\n",
       "    }\n",
       "\n",
       "    .dataframe tbody tr th {\n",
       "        vertical-align: top;\n",
       "    }\n",
       "\n",
       "    .dataframe thead th {\n",
       "        text-align: right;\n",
       "    }\n",
       "</style>\n",
       "<table border=\"1\" class=\"dataframe\">\n",
       "  <thead>\n",
       "    <tr style=\"text-align: right;\">\n",
       "      <th></th>\n",
       "      <th>rate_date</th>\n",
       "      <th>currency</th>\n",
       "      <th>rate_year</th>\n",
       "      <th>rate_month</th>\n",
       "      <th>buying_rate</th>\n",
       "    </tr>\n",
       "  </thead>\n",
       "  <tbody>\n",
       "    <tr>\n",
       "      <th>1172</th>\n",
       "      <td>2020-12-31</td>\n",
       "      <td>POUNDS STERLING</td>\n",
       "      <td>2020</td>\n",
       "      <td>December</td>\n",
       "      <td>517.3350</td>\n",
       "    </tr>\n",
       "    <tr>\n",
       "      <th>1184</th>\n",
       "      <td>2020-12-30</td>\n",
       "      <td>POUNDS STERLING</td>\n",
       "      <td>2020</td>\n",
       "      <td>December</td>\n",
       "      <td>515.8948</td>\n",
       "    </tr>\n",
       "    <tr>\n",
       "      <th>1196</th>\n",
       "      <td>2020-12-29</td>\n",
       "      <td>POUNDS STERLING</td>\n",
       "      <td>2020</td>\n",
       "      <td>December</td>\n",
       "      <td>511.8395</td>\n",
       "    </tr>\n",
       "    <tr>\n",
       "      <th>1208</th>\n",
       "      <td>2020-12-24</td>\n",
       "      <td>POUNDS STERLING</td>\n",
       "      <td>2020</td>\n",
       "      <td>December</td>\n",
       "      <td>514.9852</td>\n",
       "    </tr>\n",
       "    <tr>\n",
       "      <th>1220</th>\n",
       "      <td>2020-12-23</td>\n",
       "      <td>POUNDS STERLING</td>\n",
       "      <td>2020</td>\n",
       "      <td>December</td>\n",
       "      <td>508.5422</td>\n",
       "    </tr>\n",
       "    <tr>\n",
       "      <th>...</th>\n",
       "      <td>...</td>\n",
       "      <td>...</td>\n",
       "      <td>...</td>\n",
       "      <td>...</td>\n",
       "      <td>...</td>\n",
       "    </tr>\n",
       "    <tr>\n",
       "      <th>46429</th>\n",
       "      <td>2001-12-14</td>\n",
       "      <td>POUNDS STERLING</td>\n",
       "      <td>2001</td>\n",
       "      <td>December</td>\n",
       "      <td>162.5786</td>\n",
       "    </tr>\n",
       "    <tr>\n",
       "      <th>46440</th>\n",
       "      <td>2001-12-13</td>\n",
       "      <td>POUNDS STERLING</td>\n",
       "      <td>2001</td>\n",
       "      <td>December</td>\n",
       "      <td>161.7015</td>\n",
       "    </tr>\n",
       "    <tr>\n",
       "      <th>46441</th>\n",
       "      <td>2001-12-12</td>\n",
       "      <td>POUNDS STERLING</td>\n",
       "      <td>2001</td>\n",
       "      <td>December</td>\n",
       "      <td>161.1759</td>\n",
       "    </tr>\n",
       "    <tr>\n",
       "      <th>46452</th>\n",
       "      <td>2001-12-11</td>\n",
       "      <td>POUNDS STERLING</td>\n",
       "      <td>2001</td>\n",
       "      <td>December</td>\n",
       "      <td>160.1580</td>\n",
       "    </tr>\n",
       "    <tr>\n",
       "      <th>46453</th>\n",
       "      <td>2001-12-10</td>\n",
       "      <td>POUNDS STERLING</td>\n",
       "      <td>2001</td>\n",
       "      <td>December</td>\n",
       "      <td>160.0238</td>\n",
       "    </tr>\n",
       "  </tbody>\n",
       "</table>\n",
       "<p>4664 rows × 5 columns</p>\n",
       "</div>"
      ],
      "text/plain": [
       "       rate_date         currency  rate_year rate_month  buying_rate\n",
       "1172  2020-12-31  POUNDS STERLING       2020   December     517.3350\n",
       "1184  2020-12-30  POUNDS STERLING       2020   December     515.8948\n",
       "1196  2020-12-29  POUNDS STERLING       2020   December     511.8395\n",
       "1208  2020-12-24  POUNDS STERLING       2020   December     514.9852\n",
       "1220  2020-12-23  POUNDS STERLING       2020   December     508.5422\n",
       "...          ...              ...        ...        ...          ...\n",
       "46429 2001-12-14  POUNDS STERLING       2001   December     162.5786\n",
       "46440 2001-12-13  POUNDS STERLING       2001   December     161.7015\n",
       "46441 2001-12-12  POUNDS STERLING       2001   December     161.1759\n",
       "46452 2001-12-11  POUNDS STERLING       2001   December     160.1580\n",
       "46453 2001-12-10  POUNDS STERLING       2001   December     160.0238\n",
       "\n",
       "[4664 rows x 5 columns]"
      ]
     },
     "execution_count": 47,
     "metadata": {},
     "output_type": "execute_result"
    }
   ],
   "source": [
    "df"
   ]
  },
  {
   "cell_type": "code",
   "execution_count": 48,
   "metadata": {},
   "outputs": [
    {
     "data": {
      "text/plain": [
       "rate_date      datetime64[ns]\n",
       "currency               object\n",
       "rate_year               int64\n",
       "rate_month             object\n",
       "buying_rate           float64\n",
       "dtype: object"
      ]
     },
     "execution_count": 48,
     "metadata": {},
     "output_type": "execute_result"
    }
   ],
   "source": [
    "df.dtypes"
   ]
  },
  {
   "cell_type": "code",
   "execution_count": 51,
   "metadata": {},
   "outputs": [],
   "source": [
    "df.sort_values(by=\"rate_date\", ascending=True, inplace=True)"
   ]
  },
  {
   "cell_type": "code",
   "execution_count": 52,
   "metadata": {},
   "outputs": [
    {
     "data": {
      "text/html": [
       "<div>\n",
       "<style scoped>\n",
       "    .dataframe tbody tr th:only-of-type {\n",
       "        vertical-align: middle;\n",
       "    }\n",
       "\n",
       "    .dataframe tbody tr th {\n",
       "        vertical-align: top;\n",
       "    }\n",
       "\n",
       "    .dataframe thead th {\n",
       "        text-align: right;\n",
       "    }\n",
       "</style>\n",
       "<table border=\"1\" class=\"dataframe\">\n",
       "  <thead>\n",
       "    <tr style=\"text-align: right;\">\n",
       "      <th></th>\n",
       "      <th>rate_date</th>\n",
       "      <th>currency</th>\n",
       "      <th>rate_year</th>\n",
       "      <th>rate_month</th>\n",
       "      <th>buying_rate</th>\n",
       "    </tr>\n",
       "  </thead>\n",
       "  <tbody>\n",
       "    <tr>\n",
       "      <th>46453</th>\n",
       "      <td>2001-12-10</td>\n",
       "      <td>POUNDS STERLING</td>\n",
       "      <td>2001</td>\n",
       "      <td>December</td>\n",
       "      <td>160.0238</td>\n",
       "    </tr>\n",
       "    <tr>\n",
       "      <th>46452</th>\n",
       "      <td>2001-12-11</td>\n",
       "      <td>POUNDS STERLING</td>\n",
       "      <td>2001</td>\n",
       "      <td>December</td>\n",
       "      <td>160.1580</td>\n",
       "    </tr>\n",
       "    <tr>\n",
       "      <th>46441</th>\n",
       "      <td>2001-12-12</td>\n",
       "      <td>POUNDS STERLING</td>\n",
       "      <td>2001</td>\n",
       "      <td>December</td>\n",
       "      <td>161.1759</td>\n",
       "    </tr>\n",
       "    <tr>\n",
       "      <th>46440</th>\n",
       "      <td>2001-12-13</td>\n",
       "      <td>POUNDS STERLING</td>\n",
       "      <td>2001</td>\n",
       "      <td>December</td>\n",
       "      <td>161.7015</td>\n",
       "    </tr>\n",
       "    <tr>\n",
       "      <th>46429</th>\n",
       "      <td>2001-12-14</td>\n",
       "      <td>POUNDS STERLING</td>\n",
       "      <td>2001</td>\n",
       "      <td>December</td>\n",
       "      <td>162.5786</td>\n",
       "    </tr>\n",
       "  </tbody>\n",
       "</table>\n",
       "</div>"
      ],
      "text/plain": [
       "       rate_date         currency  rate_year rate_month  buying_rate\n",
       "46453 2001-12-10  POUNDS STERLING       2001   December     160.0238\n",
       "46452 2001-12-11  POUNDS STERLING       2001   December     160.1580\n",
       "46441 2001-12-12  POUNDS STERLING       2001   December     161.1759\n",
       "46440 2001-12-13  POUNDS STERLING       2001   December     161.7015\n",
       "46429 2001-12-14  POUNDS STERLING       2001   December     162.5786"
      ]
     },
     "execution_count": 52,
     "metadata": {},
     "output_type": "execute_result"
    }
   ],
   "source": [
    "df.head()"
   ]
  },
  {
   "cell_type": "code",
   "execution_count": null,
   "metadata": {},
   "outputs": [],
   "source": [
    "df.to_csv(\"cleaned_data_GBP_to_NGN_2001-2020.csv\", index=False, index_label=False)"
   ]
  },
  {
   "cell_type": "code",
   "execution_count": null,
   "metadata": {},
   "outputs": [],
   "source": []
  }
 ],
 "metadata": {
  "kernelspec": {
   "display_name": "Python 3",
   "language": "python",
   "name": "python3"
  },
  "language_info": {
   "codemirror_mode": {
    "name": "ipython",
    "version": 3
   },
   "file_extension": ".py",
   "mimetype": "text/x-python",
   "name": "python",
   "nbconvert_exporter": "python",
   "pygments_lexer": "ipython3",
   "version": "3.8.5"
  },
  "toc": {
   "base_numbering": 1,
   "nav_menu": {},
   "number_sections": true,
   "sideBar": true,
   "skip_h1_title": false,
   "title_cell": "Table of Contents",
   "title_sidebar": "Contents",
   "toc_cell": false,
   "toc_position": {},
   "toc_section_display": true,
   "toc_window_display": false
  }
 },
 "nbformat": 4,
 "nbformat_minor": 4
}
